{
 "cells": [
  {
   "cell_type": "code",
   "execution_count": 1,
   "id": "dbbca985",
   "metadata": {},
   "outputs": [
    {
     "data": {
      "text/html": [
       "<div>\n",
       "<style scoped>\n",
       "    .dataframe tbody tr th:only-of-type {\n",
       "        vertical-align: middle;\n",
       "    }\n",
       "\n",
       "    .dataframe tbody tr th {\n",
       "        vertical-align: top;\n",
       "    }\n",
       "\n",
       "    .dataframe thead th {\n",
       "        text-align: right;\n",
       "    }\n",
       "</style>\n",
       "<table border=\"1\" class=\"dataframe\">\n",
       "  <thead>\n",
       "    <tr style=\"text-align: right;\">\n",
       "      <th></th>\n",
       "      <th>Student ID</th>\n",
       "      <th>student_name</th>\n",
       "      <th>gender</th>\n",
       "      <th>grade</th>\n",
       "      <th>school_name</th>\n",
       "      <th>reading_score</th>\n",
       "      <th>math_score</th>\n",
       "      <th>School ID</th>\n",
       "      <th>type</th>\n",
       "      <th>size</th>\n",
       "      <th>budget</th>\n",
       "    </tr>\n",
       "  </thead>\n",
       "  <tbody>\n",
       "    <tr>\n",
       "      <th>0</th>\n",
       "      <td>0</td>\n",
       "      <td>Paul Bradley</td>\n",
       "      <td>M</td>\n",
       "      <td>9th</td>\n",
       "      <td>Huang High School</td>\n",
       "      <td>66</td>\n",
       "      <td>79</td>\n",
       "      <td>0</td>\n",
       "      <td>District</td>\n",
       "      <td>2917</td>\n",
       "      <td>1910635</td>\n",
       "    </tr>\n",
       "    <tr>\n",
       "      <th>1</th>\n",
       "      <td>1</td>\n",
       "      <td>Victor Smith</td>\n",
       "      <td>M</td>\n",
       "      <td>12th</td>\n",
       "      <td>Huang High School</td>\n",
       "      <td>94</td>\n",
       "      <td>61</td>\n",
       "      <td>0</td>\n",
       "      <td>District</td>\n",
       "      <td>2917</td>\n",
       "      <td>1910635</td>\n",
       "    </tr>\n",
       "    <tr>\n",
       "      <th>2</th>\n",
       "      <td>2</td>\n",
       "      <td>Kevin Rodriguez</td>\n",
       "      <td>M</td>\n",
       "      <td>12th</td>\n",
       "      <td>Huang High School</td>\n",
       "      <td>90</td>\n",
       "      <td>60</td>\n",
       "      <td>0</td>\n",
       "      <td>District</td>\n",
       "      <td>2917</td>\n",
       "      <td>1910635</td>\n",
       "    </tr>\n",
       "    <tr>\n",
       "      <th>3</th>\n",
       "      <td>3</td>\n",
       "      <td>Dr. Richard Scott</td>\n",
       "      <td>M</td>\n",
       "      <td>12th</td>\n",
       "      <td>Huang High School</td>\n",
       "      <td>67</td>\n",
       "      <td>58</td>\n",
       "      <td>0</td>\n",
       "      <td>District</td>\n",
       "      <td>2917</td>\n",
       "      <td>1910635</td>\n",
       "    </tr>\n",
       "    <tr>\n",
       "      <th>4</th>\n",
       "      <td>4</td>\n",
       "      <td>Bonnie Ray</td>\n",
       "      <td>F</td>\n",
       "      <td>9th</td>\n",
       "      <td>Huang High School</td>\n",
       "      <td>97</td>\n",
       "      <td>84</td>\n",
       "      <td>0</td>\n",
       "      <td>District</td>\n",
       "      <td>2917</td>\n",
       "      <td>1910635</td>\n",
       "    </tr>\n",
       "  </tbody>\n",
       "</table>\n",
       "</div>"
      ],
      "text/plain": [
       "   Student ID       student_name gender grade        school_name  \\\n",
       "0           0       Paul Bradley      M   9th  Huang High School   \n",
       "1           1       Victor Smith      M  12th  Huang High School   \n",
       "2           2    Kevin Rodriguez      M  12th  Huang High School   \n",
       "3           3  Dr. Richard Scott      M  12th  Huang High School   \n",
       "4           4         Bonnie Ray      F   9th  Huang High School   \n",
       "\n",
       "   reading_score  math_score  School ID      type  size   budget  \n",
       "0             66          79          0  District  2917  1910635  \n",
       "1             94          61          0  District  2917  1910635  \n",
       "2             90          60          0  District  2917  1910635  \n",
       "3             67          58          0  District  2917  1910635  \n",
       "4             97          84          0  District  2917  1910635  "
      ]
     },
     "execution_count": 1,
     "metadata": {},
     "output_type": "execute_result"
    }
   ],
   "source": [
    "import pandas as pd\n",
    "school_data_to_load = \"Resources/schools_complete.csv\"\n",
    "student_data_to_load = \"Resources/students_complete.csv\"\n",
    "school_data = pd.read_csv(school_data_to_load)\n",
    "student_data = pd.read_csv(student_data_to_load)\n",
    "school_data_complete = pd.merge(student_data, school_data, how=\"left\", on=[\"school_name\", \"school_name\"])\n",
    "school_data_complete.head()"
   ]
  },
  {
   "cell_type": "code",
   "execution_count": 2,
   "id": "24a1006d",
   "metadata": {},
   "outputs": [
    {
     "name": "stdout",
     "output_type": "stream",
     "text": [
      "15\n"
     ]
    }
   ],
   "source": [
    "# District Summary\n",
    "# Calculate the total number of unique schools\n",
    "unique_schools = school_data['school_name'].unique()\n",
    "school_count = len(unique_schools)\n",
    "print(school_count)"
   ]
  },
  {
   "cell_type": "code",
   "execution_count": 3,
   "id": "ce662752",
   "metadata": {},
   "outputs": [
    {
     "name": "stdout",
     "output_type": "stream",
     "text": [
      "39170\n"
     ]
    }
   ],
   "source": [
    "# Calculate the total number of students \n",
    "number_of_students = student_data['student_name'].count() \n",
    "print(number_of_students)"
   ]
  },
  {
   "cell_type": "code",
   "execution_count": 4,
   "id": "8b978751",
   "metadata": {},
   "outputs": [
    {
     "name": "stdout",
     "output_type": "stream",
     "text": [
      "24649428\n"
     ]
    }
   ],
   "source": [
    "# Calculate the total budget \n",
    "total_budget = school_data['budget'].sum()\n",
    "print(total_budget)"
   ]
  },
  {
   "cell_type": "code",
   "execution_count": 5,
   "id": "2ac2078c",
   "metadata": {},
   "outputs": [
    {
     "name": "stdout",
     "output_type": "stream",
     "text": [
      "78.98537145774827\n"
     ]
    }
   ],
   "source": [
    "# Calculate the average (mean) math score \n",
    "math_score_mean = student_data['math_score'].mean()\n",
    "print(math_score_mean)"
   ]
  },
  {
   "cell_type": "code",
   "execution_count": 6,
   "id": "acb93449",
   "metadata": {},
   "outputs": [
    {
     "name": "stdout",
     "output_type": "stream",
     "text": [
      "81.87784018381414\n"
     ]
    }
   ],
   "source": [
    "# Calculate the average (mean) reading score \n",
    "reading_score_mean = student_data['reading_score'].mean()\n",
    "print(reading_score_mean)"
   ]
  },
  {
   "cell_type": "code",
   "execution_count": 7,
   "id": "b8457318",
   "metadata": {},
   "outputs": [
    {
     "data": {
      "text/plain": [
       "74.9808526933878"
      ]
     },
     "execution_count": 7,
     "metadata": {},
     "output_type": "execute_result"
    }
   ],
   "source": [
    "# Use the following to calculate the percentage of students who passed math (math scores greather than or equal to 70)\n",
    "passing_math_count = school_data_complete[(school_data_complete[\"math_score\"] >= 70)].count()[\"student_name\"]\n",
    "passing_math_percentage = passing_math_count / float(number_of_students) * 100\n",
    "passing_math_percentage"
   ]
  },
  {
   "cell_type": "code",
   "execution_count": 8,
   "id": "9086e170",
   "metadata": {},
   "outputs": [
    {
     "data": {
      "text/plain": [
       "85.80546336482001"
      ]
     },
     "execution_count": 8,
     "metadata": {},
     "output_type": "execute_result"
    }
   ],
   "source": [
    "# Calculate the percentage of students who passeed reading (hint: look at how the math percentage was calculated)  \n",
    "passing_reading_count = school_data_complete[(school_data_complete[\"reading_score\"] >= 70)].count()[\"student_name\"]\n",
    "passing_reading_percentage = passing_reading_count / float(number_of_students) * 100\n",
    "passing_reading_percentage"
   ]
  },
  {
   "cell_type": "code",
   "execution_count": 9,
   "id": "1abcd2b3",
   "metadata": {},
   "outputs": [
    {
     "data": {
      "text/plain": [
       "65.17232575950983"
      ]
     },
     "execution_count": 9,
     "metadata": {},
     "output_type": "execute_result"
    }
   ],
   "source": [
    "# Use the following to calculate the percentage of students that passed math and reading\n",
    "passing_math_reading_count = school_data_complete[\n",
    "    (school_data_complete[\"math_score\"] >= 70) & (school_data_complete[\"reading_score\"] >= 70)\n",
    "].count()[\"student_name\"]\n",
    "overall_passing_rate = passing_math_reading_count /  float(number_of_students) * 100\n",
    "overall_passing_rate"
   ]
  },
  {
   "cell_type": "code",
   "execution_count": 10,
   "id": "8c8861af",
   "metadata": {},
   "outputs": [
    {
     "data": {
      "text/html": [
       "<div>\n",
       "<style scoped>\n",
       "    .dataframe tbody tr th:only-of-type {\n",
       "        vertical-align: middle;\n",
       "    }\n",
       "\n",
       "    .dataframe tbody tr th {\n",
       "        vertical-align: top;\n",
       "    }\n",
       "\n",
       "    .dataframe thead th {\n",
       "        text-align: right;\n",
       "    }\n",
       "</style>\n",
       "<table border=\"1\" class=\"dataframe\">\n",
       "  <thead>\n",
       "    <tr style=\"text-align: right;\">\n",
       "      <th></th>\n",
       "      <th>School Count</th>\n",
       "      <th>Student Count</th>\n",
       "      <th>Total Budget</th>\n",
       "      <th>Mean Math Score</th>\n",
       "      <th>Mean Reading Score</th>\n",
       "      <th>Math Percentage</th>\n",
       "      <th>Passing Reading Percentage</th>\n",
       "      <th>Overall Passing Rate</th>\n",
       "    </tr>\n",
       "  </thead>\n",
       "  <tbody>\n",
       "    <tr>\n",
       "      <th>0</th>\n",
       "      <td>15</td>\n",
       "      <td>39170</td>\n",
       "      <td>24649428</td>\n",
       "      <td>78.985371</td>\n",
       "      <td>81.87784</td>\n",
       "      <td>74.980853</td>\n",
       "      <td>85.805463</td>\n",
       "      <td>65.172326</td>\n",
       "    </tr>\n",
       "  </tbody>\n",
       "</table>\n",
       "</div>"
      ],
      "text/plain": [
       "   School Count  Student Count  Total Budget  Mean Math Score  \\\n",
       "0            15          39170      24649428        78.985371   \n",
       "\n",
       "   Mean Reading Score  Math Percentage  Passing Reading Percentage  \\\n",
       "0            81.87784        74.980853                   85.805463   \n",
       "\n",
       "   Overall Passing Rate  \n",
       "0             65.172326  "
      ]
     },
     "execution_count": 10,
     "metadata": {},
     "output_type": "execute_result"
    }
   ],
   "source": [
    "# Summary District\n",
    "District_Summary = pd.DataFrame({\n",
    "    \"School Count\":[school_count],\n",
    "    \"Student Count\":[number_of_students],\n",
    "    \"Total Budget\":[total_budget],\n",
    "    \"Mean Math Score\":[math_score_mean],\n",
    "    \"Mean Reading Score\":[reading_score_mean],\n",
    "    \"Math Percentage\":[passing_math_percentage],\n",
    "    \"Passing Reading Percentage\":[passing_reading_percentage],\n",
    "    \"Overall Passing Rate\":[overall_passing_rate]})\n",
    "District_Summary.head()"
   ]
  },
  {
   "cell_type": "code",
   "execution_count": 11,
   "id": "f49232bd",
   "metadata": {},
   "outputs": [],
   "source": [
    "#School Summary\n",
    "group_by_school = school_data_complete.set_index('school_name').groupby(['school_name'])"
   ]
  },
  {
   "cell_type": "code",
   "execution_count": 12,
   "id": "2a0997c3",
   "metadata": {},
   "outputs": [],
   "source": [
    "# Use the code provided to select the school type\n",
    "school_types = school_data.set_index([\"school_name\"])[\"type\"]\n"
   ]
  },
  {
   "cell_type": "code",
   "execution_count": 13,
   "id": "a10ce82a",
   "metadata": {},
   "outputs": [],
   "source": [
    "# Calculate the total student count per school counts\n",
    "student_count_per_school = group_by_school['Student ID'].count()\n"
   ]
  },
  {
   "cell_type": "code",
   "execution_count": 14,
   "id": "0646455c",
   "metadata": {},
   "outputs": [],
   "source": [
    "# Calculate the total school budget and percapita spending\n",
    "school_budget = school_data_complete.set_index('school_name')['budget']\n",
    "school_capita = school_budget / student_count_per_school"
   ]
  },
  {
   "cell_type": "code",
   "execution_count": 15,
   "id": "6742e6ff",
   "metadata": {},
   "outputs": [],
   "source": [
    "# Calculate the average test scores\n",
    "school_math = group_by_school['math_score'].mean()\n",
    "school_reading = group_by_school['reading_score'].mean()\n"
   ]
  },
  {
   "cell_type": "code",
   "execution_count": 16,
   "id": "e0d07e95",
   "metadata": {},
   "outputs": [],
   "source": [
    "# % passing math (the percentage of students who passed math)\n",
    "students_who_passed_math = school_data_complete[school_data_complete['math_score'] >= 70].groupby('school_name')['Student ID'].count()/student_count_per_school"
   ]
  },
  {
   "cell_type": "code",
   "execution_count": 17,
   "id": "340f69fa",
   "metadata": {},
   "outputs": [],
   "source": [
    "# % passing reading (the percentage of students who passed reading)\n",
    "students_who_passed_reading = school_data_complete[school_data_complete['reading_score'] >= 70].groupby('school_name')['Student ID'].count()/student_count_per_school"
   ]
  },
  {
   "cell_type": "code",
   "execution_count": 18,
   "id": "1eac7ef9",
   "metadata": {},
   "outputs": [],
   "source": [
    "# % overall passing (the percentage of students who passed math AND reading)\n",
    "students_who_passed_both = school_data_complete[(school_data_complete['math_score'] >= 70) & (school_data_complete['reading_score'] >=70)].groupby('school_name')['Student ID'].count()/student_count_per_school"
   ]
  },
  {
   "cell_type": "code",
   "execution_count": 30,
   "id": "d597450e",
   "metadata": {},
   "outputs": [
    {
     "data": {
      "text/html": [
       "<div>\n",
       "<style scoped>\n",
       "    .dataframe tbody tr th:only-of-type {\n",
       "        vertical-align: middle;\n",
       "    }\n",
       "\n",
       "    .dataframe tbody tr th {\n",
       "        vertical-align: top;\n",
       "    }\n",
       "\n",
       "    .dataframe thead th {\n",
       "        text-align: right;\n",
       "    }\n",
       "</style>\n",
       "<table border=\"1\" class=\"dataframe\">\n",
       "  <thead>\n",
       "    <tr style=\"text-align: right;\">\n",
       "      <th></th>\n",
       "      <th>School Budget</th>\n",
       "      <th>School per Capita</th>\n",
       "      <th>School Math Score</th>\n",
       "      <th>School Reading Score</th>\n",
       "      <th>Passed Math</th>\n",
       "      <th>Passed Reading</th>\n",
       "      <th>Passed both</th>\n",
       "    </tr>\n",
       "  </thead>\n",
       "  <tbody>\n",
       "    <tr>\n",
       "      <th>0</th>\n",
       "      <td>school_name\n",
       "Bailey High School       4976\n",
       "Cabr...</td>\n",
       "      <td>school_name\n",
       "Bailey High School    628.0\n",
       "Bailey...</td>\n",
       "      <td>school_name\n",
       "Bailey High School       77.048432...</td>\n",
       "      <td>school_name\n",
       "Bailey High School       81.033963...</td>\n",
       "      <td>school_name\n",
       "Bailey High School       0.666801\n",
       "...</td>\n",
       "      <td>school_name\n",
       "Bailey High School       0.819333\n",
       "...</td>\n",
       "      <td>school_name\n",
       "Bailey High School       0.546423\n",
       "...</td>\n",
       "    </tr>\n",
       "  </tbody>\n",
       "</table>\n",
       "</div>"
      ],
      "text/plain": [
       "                                       School Budget  \\\n",
       "0  school_name\n",
       "Bailey High School       4976\n",
       "Cabr...   \n",
       "\n",
       "                                   School per Capita  \\\n",
       "0  school_name\n",
       "Bailey High School    628.0\n",
       "Bailey...   \n",
       "\n",
       "                                   School Math Score  \\\n",
       "0  school_name\n",
       "Bailey High School       77.048432...   \n",
       "\n",
       "                                School Reading Score  \\\n",
       "0  school_name\n",
       "Bailey High School       81.033963...   \n",
       "\n",
       "                                         Passed Math  \\\n",
       "0  school_name\n",
       "Bailey High School       0.666801\n",
       "...   \n",
       "\n",
       "                                      Passed Reading  \\\n",
       "0  school_name\n",
       "Bailey High School       0.819333\n",
       "...   \n",
       "\n",
       "                                         Passed both  \n",
       "0  school_name\n",
       "Bailey High School       0.546423\n",
       "...  "
      ]
     },
     "execution_count": 30,
     "metadata": {},
     "output_type": "execute_result"
    }
   ],
   "source": [
    "# Summaryhttp://localhost:8888/notebooks/Desktop/PandasChallenge/Starter_code/PyCitySchools/Untitled.ipynb?kernel_name=pythondata#\n",
    "per_school_summary = pd.DataFrame ({\"School Budget\":[student_count_per_school],\"School per Capita\":[school_capita],\"School Math Score\":[school_math],\"School Reading Score\":[school_reading],\"Passed Math\":[students_who_passed_math],\"Passed Reading\":[students_who_passed_reading],\"Passed both\":[students_who_passed_both]})\n",
    "per_school_summary.head()\n"
   ]
  },
  {
   "cell_type": "code",
   "execution_count": null,
   "id": "7dc7ceb1",
   "metadata": {},
   "outputs": [],
   "source": []
  },
  {
   "cell_type": "code",
   "execution_count": null,
   "id": "4316936f",
   "metadata": {},
   "outputs": [],
   "source": []
  }
 ],
 "metadata": {
  "kernelspec": {
   "display_name": "PythonData",
   "language": "python",
   "name": "pythondata"
  },
  "language_info": {
   "codemirror_mode": {
    "name": "ipython",
    "version": 3
   },
   "file_extension": ".py",
   "mimetype": "text/x-python",
   "name": "python",
   "nbconvert_exporter": "python",
   "pygments_lexer": "ipython3",
   "version": "3.9.13"
  }
 },
 "nbformat": 4,
 "nbformat_minor": 5
}
